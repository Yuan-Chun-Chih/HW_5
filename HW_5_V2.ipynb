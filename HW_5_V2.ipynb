{
  "nbformat": 4,
  "nbformat_minor": 0,
  "metadata": {
    "colab": {
      "provenance": [],
      "authorship_tag": "ABX9TyNAzG6QwpRomK9+4Mf4r5vV",
      "include_colab_link": true
    },
    "kernelspec": {
      "name": "python3",
      "display_name": "Python 3"
    },
    "language_info": {
      "name": "python"
    }
  },
  "cells": [
    {
      "cell_type": "markdown",
      "metadata": {
        "id": "view-in-github",
        "colab_type": "text"
      },
      "source": [
        "<a href=\"https://colab.research.google.com/github/Yuan-Chun-Chih/HW_5/blob/main/HW_5_V2.ipynb\" target=\"_parent\"><img src=\"https://colab.research.google.com/assets/colab-badge.svg\" alt=\"Open In Colab\"/></a>"
      ]
    },
    {
      "cell_type": "code",
      "execution_count": 1,
      "metadata": {
        "id": "XwV69igTI-q7"
      },
      "outputs": [],
      "source": [
        "!pip install gradio pandas requests folium geopy google-generativeai -q\n",
        "\n",
        "import requests\n",
        "import pandas as pd\n",
        "import gradio as gr\n",
        "import asyncio\n",
        "import random\n",
        "import folium\n",
        "from geopy.geocoders import Nominatim\n",
        "from google.colab import userdata\n",
        "import google.generativeai as genai"
      ]
    },
    {
      "cell_type": "code",
      "source": [
        "# =====================================================\n",
        "# 1️⃣ 初始化地理編碼器\n",
        "# =====================================================\n",
        "geolocator = Nominatim(user_agent=\"lunch_recommender_app\")\n",
        "\n",
        "def get_coordinates(location_name):\n",
        "    \"\"\"使用 Nominatim 取得地點座標\"\"\"\n",
        "    try:\n",
        "        location = geolocator.geocode(f\"{location_name}, Taiwan\", timeout=10)\n",
        "        if location:\n",
        "            return (location.latitude, location.longitude)\n",
        "        return None\n",
        "    except Exception as e:\n",
        "        print(f\"❌ 無法取得 {location_name} 的座標: {e}\")\n",
        "        return None\n",
        "#使用 OpenStreetMap 的 Nominatim API，這是一個免費的地理編碼服務。\n",
        "#它可以把輸入的地點名稱（例如「台北101」）轉成經緯度座標"
      ],
      "metadata": {
        "id": "TTMJ8-cWJGNf"
      },
      "execution_count": 2,
      "outputs": []
    },
    {
      "cell_type": "code",
      "source": [
        "# =====================================================\n",
        "# 2️⃣ 使用 Overpass API 抓取餐廳資料\n",
        "# =====================================================\n",
        "def fetch_restaurants(lat, lon, radius=1000):\n",
        "    \"\"\"使用 OpenStreetMap Overpass API 搜尋附近餐廳\"\"\"\n",
        "    query = f\"\"\"\n",
        "    [out:json];\n",
        "    node\n",
        "      [amenity=restaurant]\n",
        "      (around:{radius},{lat},{lon});\n",
        "    out;\n",
        "    \"\"\"\n",
        "    url = \"https://overpass-api.de/api/interpreter\"\n",
        "    response = requests.post(url, data={'data': query})\n",
        "    data = response.json()\n",
        "\n",
        "    restaurants = []\n",
        "    for el in data[\"elements\"]:\n",
        "        tags = el.get(\"tags\", {})\n",
        "        restaurants.append({\n",
        "            \"餐廳名稱\": tags.get(\"name\", \"未命名\"),\n",
        "            \"餐飲類型\": tags.get(\"cuisine\", \"未知\"),\n",
        "            \"地址\": tags.get(\"addr:street\", \"無地址\"),\n",
        "            \"價位\": random.choice(['$', '$$', '$$$']),\n",
        "            \"距離\": random.choice(['短', '中', '長']),\n",
        "            \"是否營業\": random.choice(['是', '否']),\n",
        "            \"特色描述\": random.choice(['道地台味', '氣氛佳', '高CP值', '快速方便', '份量足']),\n",
        "            \"經度\": el[\"lon\"],\n",
        "            \"緯度\": el[\"lat\"]\n",
        "        })\n",
        "    df = pd.DataFrame(restaurants)\n",
        "    print(f\"✅ 找到 {len(df)} 家餐廳\")\n",
        "    return df"
      ],
      "metadata": {
        "id": "m9vWM1R5JJFR"
      },
      "execution_count": 3,
      "outputs": []
    },
    {
      "cell_type": "code",
      "source": [
        "# =====================================================\n",
        "# 3️⃣ Gemini 模型設定（若未設定則模擬）\n",
        "# =====================================================\n",
        "api_key = userdata.get('gemini')\n",
        "if api_key:\n",
        "    genai.configure(api_key=api_key)\n",
        "    model = genai.GenerativeModel('gemini-2.5-pro')\n",
        "else:\n",
        "    model = None\n",
        "    print(\"⚠️ 未設定 Gemini API 金鑰，將使用模擬回覆。\")"
      ],
      "metadata": {
        "id": "-kZ47MpmJM6Z"
      },
      "execution_count": 4,
      "outputs": []
    },
    {
      "cell_type": "code",
      "source": [
        "# =====================================================\n",
        "# 4️⃣ 篩選與推薦函數\n",
        "# =====================================================\n",
        "def filter_and_recommend(df, price_filter, distance_filter, is_available):\n",
        "    \"\"\"根據條件篩選餐廳並隨機推薦 3 家\"\"\"\n",
        "    price_list = price_filter if price_filter else df['價位'].unique()\n",
        "    distance_list = distance_filter if distance_filter else df['距離'].unique()\n",
        "    available_status = ['是'] if is_available else ['是', '否']\n",
        "\n",
        "    filtered_df = df[\n",
        "        df['價位'].isin(price_list) &\n",
        "        df['距離'].isin(distance_list) &\n",
        "        df['是否營業'].isin(available_status)\n",
        "    ].copy()\n",
        "\n",
        "    if filtered_df.empty:\n",
        "        return pd.DataFrame(), \"沒有找到符合條件的餐廳。\", \"\"\n",
        "\n",
        "    n_recommend = min(3, len(filtered_df))\n",
        "    recommended_df = filtered_df.sample(n=n_recommend, replace=False)\n",
        "\n",
        "    recommend_list = \"\\n\".join([\n",
        "        f\"{i+1}. {row['餐廳名稱']} ({row['價位']} / {row['距離']}) - {row['特色描述']}\"\n",
        "        for i, row in recommended_df.iterrows()\n",
        "    ])\n",
        "\n",
        "    ai_input = \"、\".join([\n",
        "        f\"{row['餐廳名稱']}，價位{row['價位']}，距離{row['距離']}，特色：{row['特色描述']}\"\n",
        "        for _, row in recommended_df.iterrows()\n",
        "    ])\n",
        "\n",
        "    return recommended_df, recommend_list, ai_input"
      ],
      "metadata": {
        "id": "2DPOnfwIJPpQ"
      },
      "execution_count": 5,
      "outputs": []
    },
    {
      "cell_type": "code",
      "source": [
        "# =====================================================\n",
        "# 5️⃣ 生成 AI 決策摘要\n",
        "# =====================================================\n",
        "async def generate_summary(ai_input):\n",
        "    if not ai_input:\n",
        "        return \"請先產生餐廳清單。\"\n",
        "    await asyncio.sleep(1)\n",
        "    return f\"AI 建議：今天可考慮 {ai_input.split('、')[0]}，快速又實惠；或試試 {ai_input.split('、')[1]}，氣氛更好。\"\n"
      ],
      "metadata": {
        "id": "QTEeLsv5JSZF"
      },
      "execution_count": 6,
      "outputs": []
    },
    {
      "cell_type": "code",
      "source": [
        "# =====================================================\n",
        "# 6️⃣ 主要流程（整合搜尋、推薦與地圖）\n",
        "# =====================================================\n",
        "async def search_and_recommend(location_name, price_filter, distance_filter, is_available):\n",
        "    \"\"\"整合搜尋地點 → 餐廳推薦 → AI 摘要 → 地圖\"\"\"\n",
        "    coords = get_coordinates(location_name)\n",
        "    if not coords:\n",
        "        return pd.DataFrame(), \"無法取得地點座標\", \"請輸入正確地名\", None\n",
        "\n",
        "    lat, lon = coords\n",
        "    df_restaurants = fetch_restaurants(lat, lon)\n",
        "    if df_restaurants.empty:\n",
        "        return pd.DataFrame(), \"此地區找不到餐廳\", \"（無建議）\", None\n",
        "\n",
        "    recommended_df, recommend_list, ai_input = filter_and_recommend(\n",
        "        df_restaurants, price_filter, distance_filter, is_available\n",
        "    )\n",
        "    ai_summary = await generate_summary(ai_input)\n",
        "\n",
        "    # 建立地圖顯示結果\n",
        "    map_obj = folium.Map(location=[lat, lon], zoom_start=15)\n",
        "    for _, row in recommended_df.iterrows():\n",
        "        folium.Marker(\n",
        "            [row[\"緯度\"], row[\"經度\"]],\n",
        "            popup=f\"{row['餐廳名稱']} ({row['價位']} / {row['距離']})\",\n",
        "            tooltip=row[\"特色描述\"]\n",
        "        ).add_to(map_obj)\n",
        "\n",
        "    return recommended_df[['餐廳名稱', '價位', '距離']], recommend_list, ai_summary, map_obj"
      ],
      "metadata": {
        "id": "WzZYTORjJW1n"
      },
      "execution_count": 7,
      "outputs": []
    },
    {
      "cell_type": "code",
      "source": [
        "# =====================================================\n",
        "# 7️⃣ Gradio 介面\n",
        "# =====================================================\n",
        "with gr.Blocks(title=\"午餐推薦系統＋地名搜尋\") as demo:\n",
        "    gr.Markdown(\"\"\"\n",
        "    # 🍱 午餐推薦系統\n",
        "    輸入地點名稱 → 搜尋附近餐廳 → 推薦 3 家並顯示地圖。\n",
        "    \"\"\")\n",
        "\n",
        "    with gr.Row():\n",
        "        location_input = gr.Textbox(label=\"搜尋地點（例：台北、台中、台南...）\", value=\"台北101\")\n",
        "        price_select = gr.CheckboxGroup(['$', '$$', '$$$'], label=\"價位\", value=['$', '$$'])\n",
        "        distance_select = gr.CheckboxGroup(['短', '中', '長'], label=\"距離\", value=['短', '中'])\n",
        "        available_toggle = gr.Checkbox(label=\"只看營業中\", value=True)\n",
        "        search_btn = gr.Button(\"🚀 開始搜尋\")\n",
        "\n",
        "    output_table = gr.DataFrame(headers=[\"餐廳名稱\", \"價位\", \"距離\"])\n",
        "    output_text = gr.Textbox(label=\"推薦清單\")\n",
        "    output_summary = gr.Textbox(label=\"AI 決策建議\", interactive=False)\n",
        "    output_map = gr.HTML(label=\"互動地圖\")\n",
        "\n",
        "    # 將地圖轉為 HTML 以在 Gradio 顯示\n",
        "    def map_to_html(map_obj):\n",
        "        if map_obj is None:\n",
        "            return \"<p>沒有地圖可顯示。</p>\"\n",
        "        return map_obj._repr_html_()\n",
        "\n",
        "    async def main_wrapper(location, price, distance, avail):\n",
        "        df, text, summary, map_obj = await search_and_recommend(location, price, distance, avail)\n",
        "        map_html = map_to_html(map_obj)\n",
        "        return df, text, summary, map_html\n",
        "\n",
        "    search_btn.click(\n",
        "        fn=main_wrapper,\n",
        "        inputs=[location_input, price_select, distance_select, available_toggle],\n",
        "        outputs=[output_table, output_text, output_summary, output_map]\n",
        "    )\n",
        "\n",
        "if __name__ == \"__main__\":\n",
        "    print(\"🚀 Gradio 應用啟動中...\")\n",
        "    demo.launch(inbrowser=True)"
      ],
      "metadata": {
        "colab": {
          "base_uri": "https://localhost:8080/",
          "height": 663
        },
        "id": "ZFLeS2IAJazF",
        "outputId": "e90f9a1c-33dd-44eb-bc69-dca9322e7c87"
      },
      "execution_count": 9,
      "outputs": [
        {
          "output_type": "stream",
          "name": "stdout",
          "text": [
            "🚀 Gradio 應用啟動中...\n",
            "It looks like you are running Gradio on a hosted Jupyter notebook, which requires `share=True`. Automatically setting `share=True` (you can turn this off by setting `share=False` in `launch()` explicitly).\n",
            "\n",
            "Colab notebook detected. To show errors in colab notebook, set debug=True in launch()\n",
            "* Running on public URL: https://6545f0b6e2bc8e5ca9.gradio.live\n",
            "\n",
            "This share link expires in 1 week. For free permanent hosting and GPU upgrades, run `gradio deploy` from the terminal in the working directory to deploy to Hugging Face Spaces (https://huggingface.co/spaces)\n"
          ]
        },
        {
          "output_type": "display_data",
          "data": {
            "text/plain": [
              "<IPython.core.display.HTML object>"
            ],
            "text/html": [
              "<div><iframe src=\"https://6545f0b6e2bc8e5ca9.gradio.live\" width=\"100%\" height=\"500\" allow=\"autoplay; camera; microphone; clipboard-read; clipboard-write;\" frameborder=\"0\" allowfullscreen></iframe></div>"
            ]
          },
          "metadata": {}
        }
      ]
    }
  ]
}