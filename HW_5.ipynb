{
  "nbformat": 4,
  "nbformat_minor": 0,
  "metadata": {
    "colab": {
      "provenance": [],
      "authorship_tag": "ABX9TyOCk4XrumoCWGlqK+6egbzT",
      "include_colab_link": true
    },
    "kernelspec": {
      "name": "python3",
      "display_name": "Python 3"
    },
    "language_info": {
      "name": "python"
    }
  },
  "cells": [
    {
      "cell_type": "markdown",
      "metadata": {
        "id": "view-in-github",
        "colab_type": "text"
      },
      "source": [
        "<a href=\"https://colab.research.google.com/github/Yuan-Chun-Chih/HW_5/blob/main/HW_5.ipynb\" target=\"_parent\"><img src=\"https://colab.research.google.com/assets/colab-badge.svg\" alt=\"Open In Colab\"/></a>"
      ]
    },
    {
      "cell_type": "code",
      "execution_count": 1,
      "metadata": {
        "id": "Fq1KaRmO1_Gl"
      },
      "outputs": [],
      "source": [
        "!pip install gspread gspread_dataframe google-auth google-auth-oauthlib google-auth-httplib2 \\\n",
        "               gradio pandas beautifulsoup4 google-generativeai python-dateutil folium -q\n",
        "\n",
        "import requests\n",
        "import pandas as pd\n",
        "import gradio as gr\n",
        "import asyncio\n",
        "import random\n",
        "from google.colab import auth\n",
        "import gspread\n",
        "from google.auth import default\n",
        "from google.colab import userdata\n",
        "import google.generativeai as genai\n",
        "import folium"
      ]
    },
    {
      "cell_type": "code",
      "source": [
        "# =====================================================\n",
        "# 1️⃣ 取得 OSM 餐廳資料\n",
        "# =====================================================\n",
        "def fetch_restaurants(lat=25.037516, lon=121.5637, radius=1000):\n",
        "    \"\"\"使用 Overpass API 抓取指定範圍內的餐廳資料\"\"\"\n",
        "    query = f\"\"\"\n",
        "    [out:json];\n",
        "    node\n",
        "      [amenity=restaurant]\n",
        "      (around:{radius},{lat},{lon});\n",
        "    out;\n",
        "    \"\"\"\n",
        "    url = \"https://overpass-api.de/api/interpreter\"\n",
        "    response = requests.post(url, data={'data': query})\n",
        "\n",
        "    if response.status_code != 200:\n",
        "        print(f\"⚠️ Error fetching data: Status code {response.status_code}\")\n",
        "        print(f\"Response text: {response.text}\")\n",
        "        return pd.DataFrame()  # Return an empty DataFrame on error\n",
        "\n",
        "    try:\n",
        "        data = response.json()\n",
        "    except requests.exceptions.JSONDecodeError as e:\n",
        "        print(f\"⚠️ Error decoding JSON: {e}\")\n",
        "        print(f\"Response text: {response.text}\")\n",
        "        return pd.DataFrame()\n",
        "\n",
        "    restaurants = []\n",
        "    for el in data.get(\"elements\", []):\n",
        "        tags = el.get(\"tags\", {})\n",
        "        restaurants.append({\n",
        "            \"餐廳名稱\": tags.get(\"name\", \"未命名\"),\n",
        "            \"餐飲類型\": tags.get(\"cuisine\", \"未知\"),\n",
        "            \"地址\": tags.get(\"addr:street\", \"無地址\"),\n",
        "            \"價位\": random.choice(['$', '$$', '$$$']),\n",
        "            \"距離\": random.choice(['短', '中', '長']),\n",
        "            \"是否營業\": random.choice(['是', '否']),\n",
        "            \"特色描述\": random.choice(['道地台味', '氣氛佳', '高CP值', '快速方便', '份量足']),\n",
        "            \"經度\": el.get(\"lon\"),\n",
        "            \"緯度\": el.get(\"lat\")\n",
        "        })\n",
        "\n",
        "    df = pd.DataFrame(restaurants)\n",
        "    print(f\"✅ 找到 {len(df)} 家餐廳\")\n",
        "    return df\n",
        "\n",
        "df_restaurants = fetch_restaurants()"
      ],
      "metadata": {
        "colab": {
          "base_uri": "https://localhost:8080/"
        },
        "id": "H15sKqQU2D39",
        "outputId": "e776828d-fb33-42a7-afe2-4a12746256f6"
      },
      "execution_count": 3,
      "outputs": [
        {
          "output_type": "stream",
          "name": "stdout",
          "text": [
            "✅ 找到 504 家餐廳\n"
          ]
        }
      ]
    },
    {
      "cell_type": "code",
      "source": [
        "# =====================================================\n",
        "# 2️⃣ 設定 Gemini AI\n",
        "# =====================================================\n",
        "api_key = userdata.get('gemini')\n",
        "if api_key:\n",
        "    genai.configure(api_key=api_key)\n",
        "    model = genai.GenerativeModel('gemini-2.5-pro')\n",
        "else:\n",
        "    print(\"⚠️ 未設定 Gemini API 金鑰，將使用模擬回覆。\")"
      ],
      "metadata": {
        "id": "wEiKDVph2Hd-"
      },
      "execution_count": 5,
      "outputs": []
    },
    {
      "cell_type": "code",
      "source": [
        "# =====================================================\n",
        "# 3️⃣ 篩選與推薦函數\n",
        "# =====================================================\n",
        "def filter_and_recommend(df, price_filter, distance_filter, is_available):\n",
        "    price_list = price_filter if price_filter else df['價位'].unique()\n",
        "    distance_list = distance_filter if distance_filter else df['距離'].unique()\n",
        "    available_status = ['是'] if is_available else ['是', '否']\n",
        "\n",
        "    filtered_df = df[\n",
        "        df['價位'].isin(price_list) &\n",
        "        df['距離'].isin(distance_list) &\n",
        "        df['是否營業'].isin(available_status)\n",
        "    ].copy()\n",
        "\n",
        "    if filtered_df.empty:\n",
        "        return pd.DataFrame(), \"沒有找到符合條件的餐廳。\", \"\"\n",
        "\n",
        "    n_recommend = min(3, len(filtered_df))\n",
        "    recommended_df = filtered_df.sample(n=n_recommend, replace=False)\n",
        "\n",
        "    recommend_list = \"\\n\".join([\n",
        "        f\"{i+1}. {row['餐廳名稱']} ({row['價位']} / {row['距離']}) - {row['特色描述']}\"\n",
        "        for i, row in recommended_df.iterrows()\n",
        "    ])\n",
        "\n",
        "    ai_input = \"、\".join([\n",
        "        f\"{row['餐廳名稱']}，價位{row['價位']}，距離{row['距離']}，特色：{row['特色描述']}\"\n",
        "        for _, row in recommended_df.iterrows()\n",
        "    ])\n",
        "\n",
        "    return recommended_df, recommend_list, ai_input\n",
        "\n",
        "\n",
        "async def generate_summary(ai_input):\n",
        "    if not ai_input:\n",
        "        return \"請先點擊「開始推薦」以產生餐廳清單。\"\n",
        "    await asyncio.sleep(1)\n",
        "    return f\"AI 助理建議：今天可考慮 {ai_input.split('、')[0]}，快速又實惠；或試試 {ai_input.split('、')[1]}，氣氛更好。\"\n",
        "\n",
        "\n",
        "async def wrapper_recommend(price_filter, distance_filter, is_available):\n",
        "    recommended_df, recommend_list, ai_input = filter_and_recommend(\n",
        "        df_restaurants, price_filter, distance_filter, is_available\n",
        "    )\n",
        "    ai_summary = await generate_summary(ai_input)\n",
        "    display_df = recommended_df[['餐廳名稱', '價位', '距離']].reset_index(drop=True)\n",
        "\n",
        "    if display_df.empty:\n",
        "        return pd.DataFrame(), \"沒有找到符合條件的餐廳。\", \"（無建議）\"\n",
        "    return display_df, recommend_list, ai_summary"
      ],
      "metadata": {
        "id": "JLX0zsBB2Nte"
      },
      "execution_count": 6,
      "outputs": []
    },
    {
      "cell_type": "code",
      "source": [
        "# =====================================================\n",
        "# 4️⃣ Gradio 互動介面\n",
        "# =====================================================\n",
        "with gr.Blocks(title=\"午餐決策器 (無金鑰版)\") as demo:\n",
        "    gr.Markdown(\"\"\"\n",
        "    # 🍜 午餐決策器 (免 Google Maps Key)\n",
        "    使用 OpenStreetMap 資料自動推薦附近餐廳！\n",
        "    \"\"\")\n",
        "\n",
        "    with gr.Row():\n",
        "        with gr.Column(scale=1):\n",
        "            price_select = gr.CheckboxGroup(['$', '$$', '$$$'], label=\"價位\", value=['$', '$$'])\n",
        "            distance_select = gr.CheckboxGroup(['短', '中', '長'], label=\"距離\", value=['短', '中'])\n",
        "            available_toggle = gr.Checkbox(label=\"只看營業中\", value=True)\n",
        "            recommend_btn = gr.Button(\"🚀 開始推薦\")\n",
        "\n",
        "        with gr.Column(scale=2):\n",
        "            output_dataframe = gr.DataFrame(headers=[\"餐廳名稱\", \"價位\", \"距離\"], datatype=[\"str\", \"str\", \"str\"])\n",
        "            output_list = gr.Textbox(label=\"推薦清單\")\n",
        "\n",
        "    output_summary = gr.Textbox(label=\"AI 決策建議\", interactive=False)\n",
        "\n",
        "    recommend_btn.click(\n",
        "        fn=wrapper_recommend,\n",
        "        inputs=[price_select, distance_select, available_toggle],\n",
        "        outputs=[output_dataframe, output_list, output_summary]\n",
        "    )\n",
        "\n",
        "    gr.Markdown(\"---\")\n",
        "    gr.Markdown(\"本系統使用 Overpass API + OpenStreetMap，完全免 Google Maps API Key。\")\n",
        "\n",
        "if __name__ == \"__main__\":\n",
        "    print(\"Gradio 應用啟動中...\")\n",
        "    demo.launch(inbrowser=True)"
      ],
      "metadata": {
        "colab": {
          "base_uri": "https://localhost:8080/",
          "height": 663
        },
        "id": "H3ZAsGzi2OrL",
        "outputId": "0ac92880-ea1b-48af-b093-b9bed2f2f4e4"
      },
      "execution_count": 7,
      "outputs": [
        {
          "output_type": "stream",
          "name": "stdout",
          "text": [
            "Gradio 應用啟動中...\n",
            "It looks like you are running Gradio on a hosted Jupyter notebook, which requires `share=True`. Automatically setting `share=True` (you can turn this off by setting `share=False` in `launch()` explicitly).\n",
            "\n",
            "Colab notebook detected. To show errors in colab notebook, set debug=True in launch()\n",
            "* Running on public URL: https://674de95bb86593fed3.gradio.live\n",
            "\n",
            "This share link expires in 1 week. For free permanent hosting and GPU upgrades, run `gradio deploy` from the terminal in the working directory to deploy to Hugging Face Spaces (https://huggingface.co/spaces)\n"
          ]
        },
        {
          "output_type": "display_data",
          "data": {
            "text/plain": [
              "<IPython.core.display.HTML object>"
            ],
            "text/html": [
              "<div><iframe src=\"https://674de95bb86593fed3.gradio.live\" width=\"100%\" height=\"500\" allow=\"autoplay; camera; microphone; clipboard-read; clipboard-write;\" frameborder=\"0\" allowfullscreen></iframe></div>"
            ]
          },
          "metadata": {}
        }
      ]
    }
  ]
}